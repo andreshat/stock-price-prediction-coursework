{
 "cells": [
  {
   "cell_type": "code",
   "execution_count": 1,
   "metadata": {
    "colab": {
     "base_uri": "https://localhost:8080/",
     "height": 71
    },
    "colab_type": "code",
    "id": "iQV2UL22wWOm",
    "outputId": "87929c24-d18f-4f03-cf09-ebb711044fd2"
   },
   "outputs": [],
   "source": [
    "import json\n",
    "import requests\n",
    "from keras.models import Sequential\n",
    "from keras.layers import Activation, Dense, Dropout, LSTM\n",
    "import matplotlib.pyplot as plt\n",
    "import numpy as np\n",
    "import pandas as pd\n",
    "import seaborn as sns\n",
    "from sklearn.metrics import mean_absolute_error\n",
    "from sklearn.preprocessing import MinMaxScaler\n",
    "\n",
    "plt.style.use('ggplot')\n",
    "%matplotlib inline"
   ]
  },
  {
   "cell_type": "code",
   "execution_count": 2,
   "metadata": {},
   "outputs": [
    {
     "data": {
      "text/plain": [
       "'1.19.5'"
      ]
     },
     "execution_count": 2,
     "metadata": {},
     "output_type": "execute_result"
    }
   ],
   "source": [
    "np.__version__"
   ]
  },
  {
   "cell_type": "markdown",
   "metadata": {},
   "source": [
    "### 1. Get data using API"
   ]
  },
  {
   "cell_type": "markdown",
   "metadata": {},
   "source": [
    "#### Step 1: Send request"
   ]
  },
  {
   "cell_type": "code",
   "execution_count": null,
   "metadata": {},
   "outputs": [],
   "source": [
    "endpoint = 'https://min-api.cryptocompare.com/data/histoday'\n",
    "crypto = 'BTC'\n",
    "limit = 2000\n",
    "res = requests.get(endpoint + '?fsym=' + crypto + '&tsym=USD&limit=' + str(limit))"
   ]
  },
  {
   "cell_type": "markdown",
   "metadata": {},
   "source": [
    "#### Step 2: Load data to the dataframe"
   ]
  },
  {
   "cell_type": "code",
   "execution_count": 2,
   "metadata": {
    "colab": {},
    "colab_type": "code",
    "id": "nVG3vREAwq5r"
   },
   "outputs": [],
   "source": [
    "hist = pd.DataFrame(json.loads(res.content)['Data'])\n",
    "hist['time'] = pd.to_datetime(hist['time'], unit='s').dt.strftime('%Y-%m-%d')\n",
    "hist = hist.drop(['conversionSymbol', 'conversionType'], axis=1)\n",
    "hist['crypto'] = crypto\n",
    "\n",
    "target_col = 'close'\n",
    "hist.head()"
   ]
  },
  {
   "cell_type": "code",
   "execution_count": 37,
   "metadata": {},
   "outputs": [
    {
     "data": {
      "text/html": [
       "<div>\n",
       "<style scoped>\n",
       "    .dataframe tbody tr th:only-of-type {\n",
       "        vertical-align: middle;\n",
       "    }\n",
       "\n",
       "    .dataframe tbody tr th {\n",
       "        vertical-align: top;\n",
       "    }\n",
       "\n",
       "    .dataframe thead th {\n",
       "        text-align: right;\n",
       "    }\n",
       "</style>\n",
       "<table border=\"1\" class=\"dataframe\">\n",
       "  <thead>\n",
       "    <tr style=\"text-align: right;\">\n",
       "      <th></th>\n",
       "      <th>time</th>\n",
       "      <th>close</th>\n",
       "      <th>high</th>\n",
       "      <th>low</th>\n",
       "      <th>open</th>\n",
       "      <th>volumefrom</th>\n",
       "      <th>volumeto</th>\n",
       "      <th>crypto</th>\n",
       "    </tr>\n",
       "  </thead>\n",
       "  <tbody>\n",
       "    <tr>\n",
       "      <th>0</th>\n",
       "      <td>2015-10-01</td>\n",
       "      <td>237.05</td>\n",
       "      <td>238.66</td>\n",
       "      <td>234.70</td>\n",
       "      <td>235.93</td>\n",
       "      <td>52884.47</td>\n",
       "      <td>12534482.83</td>\n",
       "      <td>BTC</td>\n",
       "    </tr>\n",
       "    <tr>\n",
       "      <th>1</th>\n",
       "      <td>2015-10-02</td>\n",
       "      <td>236.71</td>\n",
       "      <td>238.45</td>\n",
       "      <td>235.14</td>\n",
       "      <td>237.05</td>\n",
       "      <td>47941.60</td>\n",
       "      <td>11378441.69</td>\n",
       "      <td>BTC</td>\n",
       "    </tr>\n",
       "    <tr>\n",
       "      <th>2</th>\n",
       "      <td>2015-10-03</td>\n",
       "      <td>238.58</td>\n",
       "      <td>239.52</td>\n",
       "      <td>236.07</td>\n",
       "      <td>236.71</td>\n",
       "      <td>43304.67</td>\n",
       "      <td>10338780.01</td>\n",
       "      <td>BTC</td>\n",
       "    </tr>\n",
       "    <tr>\n",
       "      <th>3</th>\n",
       "      <td>2015-10-04</td>\n",
       "      <td>238.33</td>\n",
       "      <td>277.58</td>\n",
       "      <td>237.51</td>\n",
       "      <td>238.58</td>\n",
       "      <td>31854.49</td>\n",
       "      <td>7618430.27</td>\n",
       "      <td>BTC</td>\n",
       "    </tr>\n",
       "    <tr>\n",
       "      <th>4</th>\n",
       "      <td>2015-10-05</td>\n",
       "      <td>240.15</td>\n",
       "      <td>240.53</td>\n",
       "      <td>236.41</td>\n",
       "      <td>238.33</td>\n",
       "      <td>61240.52</td>\n",
       "      <td>14631928.87</td>\n",
       "      <td>BTC</td>\n",
       "    </tr>\n",
       "  </tbody>\n",
       "</table>\n",
       "</div>"
      ],
      "text/plain": [
       "        time   close    high     low    open  volumefrom     volumeto crypto\n",
       "0 2015-10-01  237.05  238.66  234.70  235.93    52884.47  12534482.83    BTC\n",
       "1 2015-10-02  236.71  238.45  235.14  237.05    47941.60  11378441.69    BTC\n",
       "2 2015-10-03  238.58  239.52  236.07  236.71    43304.67  10338780.01    BTC\n",
       "3 2015-10-04  238.33  277.58  237.51  238.58    31854.49   7618430.27    BTC\n",
       "4 2015-10-05  240.15  240.53  236.41  238.33    61240.52  14631928.87    BTC"
      ]
     },
     "execution_count": 37,
     "metadata": {},
     "output_type": "execute_result"
    }
   ],
   "source": [
    "# hist.head()"
   ]
  },
  {
   "cell_type": "code",
   "execution_count": 3,
   "metadata": {},
   "outputs": [],
   "source": [
    "# hist = pd.read_csv('crypto_info_df')"
   ]
  },
  {
   "cell_type": "code",
   "execution_count": 4,
   "metadata": {},
   "outputs": [],
   "source": [
    "target_col = 'close'"
   ]
  },
  {
   "cell_type": "markdown",
   "metadata": {},
   "source": [
    "### 2. Connect to the PostgreSQL & Create a Database"
   ]
  },
  {
   "cell_type": "markdown",
   "metadata": {},
   "source": [
    "#### Step 1: Import the libraries"
   ]
  },
  {
   "cell_type": "code",
   "execution_count": 39,
   "metadata": {},
   "outputs": [],
   "source": [
    "# import sys to get more detailed Python exception info\n",
    "import sys\n",
    "\n",
    "# import the connect library for psycopg2\n",
    "import psycopg2\n",
    "\n",
    "# import the error handling libraries for psycopg2\n",
    "from psycopg2 import OperationalError, errorcodes, errors\n",
    "\n",
    "import psycopg2.extras as extras\n"
   ]
  },
  {
   "cell_type": "markdown",
   "metadata": {},
   "source": [
    "#### Step 2: Specify the connection parameters"
   ]
  },
  {
   "cell_type": "code",
   "execution_count": 40,
   "metadata": {},
   "outputs": [],
   "source": [
    "# Note: please change your database, username & password as per your own values\n",
    "\n",
    "conn_params_dic = {\n",
    "    \"host\"      : \"localhost\",\n",
    "    \"user\"      : \"postgres\",\n",
    "    \"password\"  : \"1103\"\n",
    "}"
   ]
  },
  {
   "cell_type": "markdown",
   "metadata": {},
   "source": [
    "#### Step 3: Define a function that handles and parses psycopg2 exceptions"
   ]
  },
  {
   "cell_type": "code",
   "execution_count": 41,
   "metadata": {},
   "outputs": [],
   "source": [
    "def show_psycopg2_exception(err):\n",
    "    # get details about the exception\n",
    "    err_type, err_obj, traceback = sys.exc_info()\n",
    "\n",
    "    # get the line number when exception occured\n",
    "    line_n = traceback.tb_lineno\n",
    "\n",
    "    # print the connect() error\n",
    "    print (\"\\npsycopg2 ERROR:\", err, \"on line number:\", line_n)\n",
    "    print (\"psycopg2 traceback:\", traceback, \"-- type:\", err_type)\n",
    "\n",
    "    # psycopg2 extensions.Diagnostics object attribute\n",
    "    print (\"\\nextensions.Diagnostics:\", err.diag)\n",
    "\n",
    "    # print the pgcode and pgerror exceptions\n",
    "    print (\"pgerror:\", err.pgerror)\n",
    "    print (\"pgcode:\", err.pgcode, \"\\n\")"
   ]
  },
  {
   "cell_type": "markdown",
   "metadata": {},
   "source": [
    "#### Step 4: Define a connect function to connect to the PostgreSQL database server"
   ]
  },
  {
   "cell_type": "code",
   "execution_count": 87,
   "metadata": {},
   "outputs": [],
   "source": [
    "def connect(conn_params_dic):\n",
    "    conn = None\n",
    "    try:\n",
    "        print('Connecting to the PostgreSQL...........')\n",
    "        conn = psycopg2.connect(**conn_params_dic)\n",
    "        print(\"Connection successful..................\")\n",
    "        \n",
    "    except OperationalError as err:\n",
    "        # pass exception to function\n",
    "        show_psycopg2_exception(err)\n",
    "\n",
    "        # set the connection to 'None' in case of error\n",
    "        conn = None\n",
    "    \n",
    "    print()\n",
    "    return conn"
   ]
  },
  {
   "cell_type": "markdown",
   "metadata": {},
   "source": [
    "#### Step 5: Creates a database named crypto_db in PostgreSQL database"
   ]
  },
  {
   "cell_type": "code",
   "execution_count": 43,
   "metadata": {},
   "outputs": [
    {
     "name": "stdout",
     "output_type": "stream",
     "text": [
      "Connecting to the PostgreSQL...........\n",
      "Connection successful..................\n",
      "crypto_db database is created successfully..................\n"
     ]
    }
   ],
   "source": [
    "db_name = 'crypto_db'\n",
    "\n",
    "conn = connect(conn_params_dic)\n",
    "conn.autocommit = True\n",
    "\n",
    "if conn != None:\n",
    "    \n",
    "    try:\n",
    "        cursor = conn.cursor();\n",
    "        # Dropping database if exists\n",
    "        cursor.execute(\"DROP DATABASE IF EXISTS \" + db_name + \";\")\n",
    "    \n",
    "        # Creating a database\n",
    "        cursor.execute(\"CREATE DATABASE \" + db_name + \";\");\n",
    "        print(db_name + \" database is created successfully..................\")\n",
    "    \n",
    "        # Closing the cursor & connection\n",
    "        cursor.close()\n",
    "        conn.close()\n",
    "        \n",
    "    except OperationalError as err:\n",
    "        # pass exception to function\n",
    "        show_psycopg2_exception(err)\n",
    "        # set the connection to 'None' in case of error\n",
    "        conn = None"
   ]
  },
  {
   "cell_type": "markdown",
   "metadata": {},
   "source": [
    "### 3. Pandas DataFrame to PostgreSQL"
   ]
  },
  {
   "cell_type": "markdown",
   "metadata": {},
   "source": [
    "#### Step 1: Add database name to the connection parameters"
   ]
  },
  {
   "cell_type": "code",
   "execution_count": 45,
   "metadata": {},
   "outputs": [],
   "source": [
    "conn_params_dic['database'] = db_name"
   ]
  },
  {
   "cell_type": "markdown",
   "metadata": {},
   "source": [
    "#### Step 2. Identify data"
   ]
  },
  {
   "cell_type": "code",
   "execution_count": 46,
   "metadata": {},
   "outputs": [
    {
     "data": {
      "text/plain": [
       "time          datetime64[ns]\n",
       "close                float64\n",
       "high                 float64\n",
       "low                  float64\n",
       "open                 float64\n",
       "volumefrom           float64\n",
       "volumeto             float64\n",
       "crypto                object\n",
       "dtype: object"
      ]
     },
     "execution_count": 46,
     "metadata": {},
     "output_type": "execute_result"
    }
   ],
   "source": [
    "hist.dtypes"
   ]
  },
  {
   "cell_type": "markdown",
   "metadata": {},
   "source": [
    "#### Step 3: Create a table named crypto_info in PostgreSQL database"
   ]
  },
  {
   "cell_type": "code",
   "execution_count": 82,
   "metadata": {},
   "outputs": [
    {
     "name": "stdout",
     "output_type": "stream",
     "text": [
      "Connecting to the PostgreSQL...........\n",
      "Connection successful..................\n",
      "crypto_info table is created successfully..................\n"
     ]
    }
   ],
   "source": [
    "table_name = 'crypto_info'\n",
    "\n",
    "conn = connect(conn_params_dic)\n",
    "conn.autocommit = True\n",
    "\n",
    "if conn != None:\n",
    "    \n",
    "    try:\n",
    "        cursor = conn.cursor();\n",
    "        # Dropping table if exists\n",
    "        cursor.execute(\"DROP TABLE IF EXISTS \" + table_name + \";\")\n",
    "        \n",
    "        sql = '''CREATE TABLE crypto_info(\n",
    "        time DATE NOT NULL,\n",
    "        close NUMERIC(12, 2) NOT NULL, \n",
    "        high DECIMAL(12, 2) NOT NULL, \n",
    "        low DECIMAL(12, 2) NOT NULL, \n",
    "        open DECIMAL(12, 2) NOT NULL, \n",
    "        volumefrom DECIMAL(18, 2) NOT NULL, \n",
    "        volumeto DECIMAL(18, 2) NOT NULL,\n",
    "        crypto CHAR(11) NOT NULL\n",
    "        )'''\n",
    "        \n",
    "        # Creating a table\n",
    "        cursor.execute(sql);\n",
    "        print(table_name + \" table is created successfully..................\")\n",
    "    \n",
    "        # Closing the cursor & connection\n",
    "        cursor.close()\n",
    "        conn.close()\n",
    "        \n",
    "    except OperationalError as err:\n",
    "        # pass exception to function\n",
    "        show_psycopg2_exception(err)\n",
    "        # set the connection to 'None' in case of error\n",
    "        conn = None"
   ]
  },
  {
   "cell_type": "markdown",
   "metadata": {},
   "source": [
    "#### Step 4: Define function to insert dataframe into table"
   ]
  },
  {
   "cell_type": "code",
   "execution_count": 56,
   "metadata": {},
   "outputs": [],
   "source": [
    "# Define function using psycopg2.extras.execute_batch() to insert the dataframe\n",
    "def execute_batch(conn, datafrm, table, page_size=150):\n",
    "    \n",
    "    # Creating a list of tupples from the dataframe values\n",
    "    tpls = [tuple(x) for x in datafrm.to_numpy()]\n",
    "    \n",
    "    # dataframe columns with Comma-separated\n",
    "    cols = ', '.join(list(datafrm.columns))\n",
    "    \n",
    "    # SQL query to execute\n",
    "    str_table_data = ', '.join(\"{}\".format(data) for data in tpls)\n",
    "    \n",
    "    sql = \"INSERT INTO {} ({}) VALUES {}\".format(table, cols, str_table_data)\n",
    "    cursor = conn.cursor()\n",
    "    try:\n",
    "        extras.execute_batch(cursor, sql, tpls, page_size)\n",
    "        conn.commit()\n",
    "        print(\"Data inserted using execute_batch() successfully...\")\n",
    "    except (Exception, psycopg2.DatabaseError) as err:\n",
    "        # pass exception to function\n",
    "        show_psycopg2_exception(err)\n",
    "        cursor.close()"
   ]
  },
  {
   "cell_type": "markdown",
   "metadata": {},
   "source": [
    "#### Step 5: List PostgreSQL tables"
   ]
  },
  {
   "cell_type": "code",
   "execution_count": 88,
   "metadata": {},
   "outputs": [
    {
     "name": "stdout",
     "output_type": "stream",
     "text": [
      "Connecting to the PostgreSQL...........\n",
      "Connection successful..................\n",
      "\n",
      "PostgreSQL tables:\n",
      "Table schema: public, table name: crypto_info\n"
     ]
    }
   ],
   "source": [
    "# Print tables in a database\n",
    "conn = connect(conn_params_dic)\n",
    "conn.autocommit = True\n",
    "\n",
    "cursor = conn.cursor()\n",
    "get_tables_query = \"\"\"SELECT table_schema, table_name\n",
    "                        FROM information_schema.tables\n",
    "                        WHERE (\n",
    "                            table_schema = 'public'\n",
    "                        )\n",
    "                        ORDER BY table_schema, table_name;\n",
    "                        \"\"\"\n",
    "cursor.execute(get_tables_query)\n",
    "list_tables = cursor.fetchall()\n",
    "\n",
    "print('PostgreSQL tables:')\n",
    "for table_schema, table_name in list_tables:\n",
    "    print(\"Table schema: {}, table name: {}\". format(table_schema, table_name))\n",
    "\n",
    "cursor.close()\n",
    "conn.close()"
   ]
  },
  {
   "cell_type": "markdown",
   "metadata": {},
   "source": [
    "#### Step 6: Perform data insertion to the table"
   ]
  },
  {
   "cell_type": "code",
   "execution_count": 83,
   "metadata": {},
   "outputs": [
    {
     "name": "stdout",
     "output_type": "stream",
     "text": [
      "Connecting to the PostgreSQL...........\n",
      "Connection successful..................\n",
      "Data inserted using execute_batch() successfully...\n"
     ]
    }
   ],
   "source": [
    "conn = connect(conn_params_dic)\n",
    "conn.autocommit = True\n",
    "\n",
    "cursor = conn.cursor()\n",
    "execute_batch(conn, hist, table_name)\n",
    "\n",
    "cursor.close()\n",
    "conn.close()"
   ]
  },
  {
   "cell_type": "markdown",
   "metadata": {},
   "source": [
    "#### Step 7: Output first 5 inserted rows"
   ]
  },
  {
   "cell_type": "code",
   "execution_count": 89,
   "metadata": {},
   "outputs": [
    {
     "name": "stdout",
     "output_type": "stream",
     "text": [
      "Connecting to the PostgreSQL...........\n",
      "Connection successful..................\n",
      "\n",
      "(datetime.date(2015, 10, 1), Decimal('237.05'), Decimal('238.66'), Decimal('234.70'), Decimal('235.93'), Decimal('52884.47'), Decimal('12534482.83'), 'BTC        ')\n",
      "(datetime.date(2015, 10, 2), Decimal('236.71'), Decimal('238.45'), Decimal('235.14'), Decimal('237.05'), Decimal('47941.60'), Decimal('11378441.69'), 'BTC        ')\n",
      "(datetime.date(2015, 10, 3), Decimal('238.58'), Decimal('239.52'), Decimal('236.07'), Decimal('236.71'), Decimal('43304.67'), Decimal('10338780.01'), 'BTC        ')\n",
      "(datetime.date(2015, 10, 4), Decimal('238.33'), Decimal('277.58'), Decimal('237.51'), Decimal('238.58'), Decimal('31854.49'), Decimal('7618430.27'), 'BTC        ')\n",
      "(datetime.date(2015, 10, 5), Decimal('240.15'), Decimal('240.53'), Decimal('236.41'), Decimal('238.33'), Decimal('61240.52'), Decimal('14631928.87'), 'BTC        ')\n"
     ]
    }
   ],
   "source": [
    "# Print first 5 rows in a database\n",
    "conn = connect(conn_params_dic)\n",
    "conn.autocommit = True\n",
    "\n",
    "cursor = conn.cursor()\n",
    "try:\n",
    "    cursor.execute(\"SELECT * from crypto_info LIMIT 5;\")\n",
    "    records = cursor.fetchall()\n",
    "    for record in records:\n",
    "        print(record)\n",
    "except:\n",
    "    print(\"Unable to SELECT\")\n",
    "\n",
    "cursor.close()\n",
    "conn.close()"
   ]
  },
  {
   "cell_type": "markdown",
   "metadata": {},
   "source": [
    "### 4. Data preprocessing (normalization using pipelines, split)"
   ]
  },
  {
   "cell_type": "markdown",
   "metadata": {},
   "source": [
    "#### Step 1: Drop non numeric columns "
   ]
  },
  {
   "cell_type": "code",
   "execution_count": 5,
   "metadata": {},
   "outputs": [],
   "source": [
    "# numeric_hist = hist._get_numeric_data().copy()\n",
    "numeric_hist = hist[[target_col]].copy()"
   ]
  },
  {
   "cell_type": "markdown",
   "metadata": {},
   "source": [
    "#### Step 2: Split data on train and test"
   ]
  },
  {
   "cell_type": "code",
   "execution_count": 6,
   "metadata": {
    "colab": {},
    "colab_type": "code",
    "id": "WPPn3soJw7hM"
   },
   "outputs": [],
   "source": [
    "def train_test_split(df, test_size=0.2):\n",
    "    split_row = len(df) - int(test_size * len(df))\n",
    "    train_data = df.iloc[:split_row]\n",
    "    test_data = df.iloc[split_row:]\n",
    "    return train_data, test_data"
   ]
  },
  {
   "cell_type": "code",
   "execution_count": 7,
   "metadata": {
    "colab": {},
    "colab_type": "code",
    "id": "TN54bUbJxFAR"
   },
   "outputs": [],
   "source": [
    "train, test = train_test_split(numeric_hist, test_size=0.2)"
   ]
  },
  {
   "cell_type": "markdown",
   "metadata": {},
   "source": [
    "#### Step 3: Visualize data "
   ]
  },
  {
   "cell_type": "code",
   "execution_count": 8,
   "metadata": {
    "colab": {},
    "colab_type": "code",
    "id": "QDVmOaKjxHsq"
   },
   "outputs": [],
   "source": [
    "def line_plot(line1, line2, label1=None, label2=None, title='', lw=2):\n",
    "    fig, ax = plt.subplots(1, figsize=(13, 7))\n",
    "    ax.plot(line1, label=label1, linewidth=lw)\n",
    "    ax.plot(line2, label=label2, linewidth=lw)\n",
    "    ax.set_ylabel('price [USD]', fontsize=14)\n",
    "    ax.set_title(title, fontsize=16)\n",
    "    ax.legend(loc='best', fontsize=16);"
   ]
  },
  {
   "cell_type": "code",
   "execution_count": 9,
   "metadata": {
    "colab": {
     "base_uri": "https://localhost:8080/",
     "height": 428
    },
    "colab_type": "code",
    "id": "n5Vtnp5BxLPV",
    "outputId": "7b31eae0-8d0a-400c-fc68-1a767ff49603"
   },
   "outputs": [
    {
     "data": {
      "image/png": "[encoded data removed]",
      "text/plain": [
       "<Figure size 936x504 with 1 Axes>"
      ]
     },
     "metadata": {
      "needs_background": "light"
     },
     "output_type": "display_data"
    }
   ],
   "source": [
    "line_plot(train[target_col], test[target_col], 'Training', 'Test', title='')"
   ]
  },
  {
   "cell_type": "markdown",
   "metadata": {},
   "source": [
    " #### Step 4: Data normalization "
   ]
  },
  {
   "cell_type": "code",
   "execution_count": 10,
   "metadata": {},
   "outputs": [],
   "source": [
    "scaler = MinMaxScaler()"
   ]
  },
  {
   "cell_type": "code",
   "execution_count": 11,
   "metadata": {},
   "outputs": [],
   "source": [
    "train_norm = pd.DataFrame(scaler.fit_transform(train), columns=train.columns)\n",
    "test_norm = pd.DataFrame(scaler.transform(test), columns=test.columns)\n",
    "# inverse_tranform"
   ]
  },
  {
   "cell_type": "markdown",
   "metadata": {},
   "source": [
    "#### Step 5: Sliding window "
   ]
  },
  {
   "cell_type": "code",
   "execution_count": 12,
   "metadata": {},
   "outputs": [],
   "source": [
    "def extract_window_data(df, window_len=5):\n",
    "    window_data = []\n",
    "    for idx in range(len(df) - window_len):\n",
    "        tmp = df[idx: (idx + window_len)].copy()\n",
    "        window_data.append(tmp.values)\n",
    "    return np.array(window_data)"
   ]
  },
  {
   "cell_type": "code",
   "execution_count": 13,
   "metadata": {},
   "outputs": [],
   "source": [
    "window_len = 20\n",
    "X_train = extract_window_data(train_norm, window_len)\n",
    "X_test = extract_window_data(test_norm, window_len)"
   ]
  },
  {
   "cell_type": "code",
   "execution_count": 14,
   "metadata": {},
   "outputs": [],
   "source": [
    "y_train = train_norm[target_col][window_len:].values\n",
    "y_test = test_norm[target_col][window_len:].values"
   ]
  },
  {
   "cell_type": "markdown",
   "metadata": {},
   "source": [
    "### 5. Building LSTM"
   ]
  },
  {
   "cell_type": "markdown",
   "metadata": {},
   "source": [
    "#### Step 1: Initialize LSTM "
   ]
  },
  {
   "cell_type": "code",
   "execution_count": 15,
   "metadata": {},
   "outputs": [],
   "source": [
    "def build_lstm_model(input_data, output_size, neurons=100, activ_func='linear',\n",
    "                     dropout=0.2, loss='mse', optimizer='adam'):\n",
    "    model = Sequential()\n",
    "    model.add(LSTM(neurons, input_shape=(input_data.shape[1], input_data.shape[2])))\n",
    "    model.add(Dropout(dropout))\n",
    "    model.add(Dense(units=output_size))\n",
    "    model.add(Activation(activ_func))\n",
    "\n",
    "    model.compile(loss=loss, optimizer=optimizer)\n",
    "    return model"
   ]
  },
  {
   "cell_type": "markdown",
   "metadata": {},
   "source": [
    "#### Step 2: Initialize params "
   ]
  },
  {
   "cell_type": "code",
   "execution_count": 16,
   "metadata": {},
   "outputs": [],
   "source": [
    "np.random.seed(42)\n",
    "lstm_neurons = 100\n",
    "epochs = 20\n",
    "batch_size = 32\n",
    "loss = 'mse'\n",
    "dropout = 0.2\n",
    "optimizer = 'adam'"
   ]
  },
  {
   "cell_type": "markdown",
   "metadata": {},
   "source": [
    "#### Step 3: Run LSTM "
   ]
  },
  {
   "cell_type": "code",
   "execution_count": 17,
   "metadata": {},
   "outputs": [
    {
     "data": {
      "text/plain": [
       "(1581, 20, 1)"
      ]
     },
     "execution_count": 17,
     "metadata": {},
     "output_type": "execute_result"
    }
   ],
   "source": [
    "X_train.shape"
   ]
  },
  {
   "cell_type": "code",
   "execution_count": 18,
   "metadata": {},
   "outputs": [],
   "source": [
    "model = build_lstm_model(\n",
    "    X_train, output_size=1, neurons=lstm_neurons, dropout=dropout, loss=loss,\n",
    "    optimizer=optimizer)"
   ]
  },
  {
   "cell_type": "code",
   "execution_count": 19,
   "metadata": {},
   "outputs": [
    {
     "name": "stdout",
     "output_type": "stream",
     "text": [
      "Epoch 1/20\n",
      "50/50 [==============================] - 1s 11ms/step - loss: 0.0051\n",
      "Epoch 2/20\n",
      "50/50 [==============================] - 0s 10ms/step - loss: 0.0130\n",
      "Epoch 3/20\n",
      "50/50 [==============================] - 0s 10ms/step - loss: 0.0015\n",
      "Epoch 4/20\n",
      "50/50 [==============================] - 0s 10ms/step - loss: 0.0016\n",
      "Epoch 5/20\n",
      "50/50 [==============================] - 0s 10ms/step - loss: 0.0015\n",
      "Epoch 6/20\n",
      "50/50 [==============================] - 0s 10ms/step - loss: 0.0013\n",
      "Epoch 7/20\n",
      "50/50 [==============================] - 0s 9ms/step - loss: 0.0014\n",
      "Epoch 8/20\n",
      "50/50 [==============================] - 0s 10ms/step - loss: 0.0020\n",
      "Epoch 9/20\n",
      "50/50 [==============================] - 0s 10ms/step - loss: 0.0014\n",
      "Epoch 10/20\n",
      "50/50 [==============================] - 0s 10ms/step - loss: 0.0013\n",
      "Epoch 11/20\n",
      "50/50 [==============================] - 0s 10ms/step - loss: 0.0013\n",
      "Epoch 12/20\n",
      "50/50 [==============================] - 0s 10ms/step - loss: 0.0012\n",
      "Epoch 13/20\n",
      "50/50 [==============================] - 1s 10ms/step - loss: 0.0014\n",
      "Epoch 14/20\n",
      "50/50 [==============================] - 0s 10ms/step - loss: 0.0012\n",
      "Epoch 15/20\n",
      "50/50 [==============================] - 0s 10ms/step - loss: 0.0011\n",
      "Epoch 16/20\n",
      "50/50 [==============================] - 0s 10ms/step - loss: 0.0011\n",
      "Epoch 17/20\n",
      "50/50 [==============================] - 0s 9ms/step - loss: 0.0010\n",
      "Epoch 18/20\n",
      "50/50 [==============================] - 0s 10ms/step - loss: 9.7038e-04\n",
      "Epoch 19/20\n",
      "50/50 [==============================] - 0s 10ms/step - loss: 0.0014\n",
      "Epoch 20/20\n",
      "50/50 [==============================] - 0s 10ms/step - loss: 0.0013\n"
     ]
    }
   ],
   "source": [
    "history = model.fit(\n",
    "    X_train, y_train, epochs=epochs, batch_size=batch_size, verbose=1, shuffle=False)"
   ]
  },
  {
   "cell_type": "code",
   "execution_count": 23,
   "metadata": {},
   "outputs": [
    {
     "data": {
      "text/plain": [
       "(380, 20, 1)"
      ]
     },
     "execution_count": 23,
     "metadata": {},
     "output_type": "execute_result"
    }
   ],
   "source": [
    "X_test.shape"
   ]
  },
  {
   "cell_type": "code",
   "execution_count": 22,
   "metadata": {},
   "outputs": [
    {
     "data": {
      "text/plain": [
       "array([[[0.52048796],\n",
       "        [0.49012653],\n",
       "        [0.49045988],\n",
       "        [0.49512057],\n",
       "        [0.493739  ],\n",
       "        [0.50974892],\n",
       "        [0.4933596 ],\n",
       "        [0.4751465 ],\n",
       "        [0.44779363],\n",
       "        [0.44925893],\n",
       "        [0.44391008],\n",
       "        [0.43481269],\n",
       "        [0.43501835],\n",
       "        [0.45440002],\n",
       "        [0.44633776],\n",
       "        [0.44676165],\n",
       "        [0.46251566],\n",
       "        [0.46699371],\n",
       "        [0.45356166],\n",
       "        [0.4092862 ]]])"
      ]
     },
     "execution_count": 22,
     "metadata": {},
     "output_type": "execute_result"
    }
   ],
   "source": [
    "X_test[:1]"
   ]
  },
  {
   "cell_type": "code",
   "execution_count": 20,
   "metadata": {},
   "outputs": [
    {
     "data": {
      "text/plain": [
       "0.07796521983023931"
      ]
     },
     "execution_count": 20,
     "metadata": {},
     "output_type": "execute_result"
    }
   ],
   "source": [
    "y_pred = model.predict(X_test).squeeze()\n",
    "mean_absolute_error(y_pred, y_test)"
   ]
  },
  {
   "cell_type": "code",
   "execution_count": 21,
   "metadata": {},
   "outputs": [
    {
     "data": {
      "image/png": "[encoded data removed]",
      "text/plain": [
       "<Figure size 936x504 with 1 Axes>"
      ]
     },
     "metadata": {
      "needs_background": "light"
     },
     "output_type": "display_data"
    }
   ],
   "source": [
    "line_plot(y_test, y_pred, 'actual', 'prediction', lw=3)"
   ]
  },
  {
   "cell_type": "markdown",
   "metadata": {},
   "source": [
    "### 6. Tune LSTM"
   ]
  },
  {
   "cell_type": "code",
   "execution_count": null,
   "metadata": {},
   "outputs": [],
   "source": []
  },
  {
   "cell_type": "code",
   "execution_count": null,
   "metadata": {},
   "outputs": [],
   "source": []
  },
  {
   "cell_type": "markdown",
   "metadata": {},
   "source": [
    "### 7. Recursive Multi-step Forecast "
   ]
  },
  {
   "cell_type": "code",
   "execution_count": 24,
   "metadata": {},
   "outputs": [],
   "source": [
    "def push(x, y):\n",
    "    push_len = len(y)\n",
    "    assert len(x) >= push_len\n",
    "    x[:-push_len] = x[push_len:]\n",
    "    x[-push_len:] = y\n",
    "    return x"
   ]
  },
  {
   "cell_type": "code",
   "execution_count": 25,
   "metadata": {},
   "outputs": [],
   "source": [
    "# Example\n",
    "# push(x, [5])"
   ]
  },
  {
   "cell_type": "markdown",
   "metadata": {},
   "source": [
    "Stages:  \n",
    "1. Read num_days to predict\n",
    "1. Read data from db equal to window_size\n",
    "1. Preprocess data from db\n",
    "1. Run model on that data\n",
    "1. Insert 1st predition to data and drop the first observation\n",
    "1. Insert 1st prediction to prediction array\n",
    "1. Run model on new data\n",
    "1. Insert 2nd prediction to data and drop the first observation\n",
    "1. Insert 2nd prediction to prediction array\n",
    "1. .\n",
    "1. .\n",
    "1. .\n",
    "1. reverse_transform on prediction array\n",
    "1. return prediction array values OR/AND prediction plot"
   ]
  },
  {
   "cell_type": "code",
   "execution_count": 41,
   "metadata": {},
   "outputs": [],
   "source": [
    "conn_params_dic = {\n",
    "    \"host\"      : \"localhost\",\n",
    "    \"user\"      : \"postgres\",\n",
    "    \"password\"  : \"1103\"\n",
    "}\n",
    "\n",
    "def read_data_from_db(conn_params_dic, n_rows=5, db_name='crypto_info', order_col='time'):\n",
    "    conn = connect(conn_params_dic)\n",
    "    conn.autocommit = True\n",
    "\n",
    "    cursor = conn.cursor()\n",
    "    try:\n",
    "        sql = 'SELECT * FROM ' + db_name + ' ORDER BY ' + order_col + ' DESC LIMIT ' + str(n_rows) + ';'\n",
    "        df = pd.read_sql_query(sql, conn)        \n",
    "    except:\n",
    "        print(\"Unable to SELECT\")\n",
    "\n",
    "    cursor.close()\n",
    "    conn.close()\n",
    "    \n",
    "    return df"
   ]
  },
  {
   "cell_type": "code",
   "execution_count": 36,
   "metadata": {},
   "outputs": [],
   "source": [
    "def db_data_transformer(scaler, data):\n",
    "    transformed_data = scaler.transform(data)\n",
    "    return transformed_data"
   ]
  },
  {
   "cell_type": "code",
   "execution_count": 37,
   "metadata": {},
   "outputs": [],
   "source": [
    "def df_data_inv_transformer(scaler, transformed_data):\n",
    "    data = scaler.inverse_transformer(transformed_data)\n",
    "    return data"
   ]
  },
  {
   "cell_type": "code",
   "execution_count": 35,
   "metadata": {},
   "outputs": [],
   "source": [
    "def lstm_stock_predictions(num_days, data, model):\n",
    "    y_pred_arr = []\n",
    "    for day in range(num_days):\n",
    "        y_pred = model.predict(data)\n",
    "        y_pred_arr.append(y_pred)\n",
    "        push(data, y_pred)\n",
    "        \n",
    "    return y_pred_arr"
   ]
  },
  {
   "cell_type": "code",
   "execution_count": 38,
   "metadata": {},
   "outputs": [],
   "source": [
    "def y_pred_line_plot(line1, label1=None, title='Predicted stock prices', lw=2, save=False, save_path='\\static', file_name = 'test.png'):\n",
    "    fig, ax = plt.subplots(1, figsize=(13, 7))\n",
    "    ax.plot(line1, label=label1, linewidth=lw)\n",
    "    ax.set_ylabel('price [USD]', fontsize=14)\n",
    "    ax.set_title(title, fontsize=16)\n",
    "    ax.legend(loc='best', fontsize=16)\n",
    "    \n",
    "    if save:\n",
    "        full_path = os.path.join(save_path, file_name)\n",
    "        fig.savefig(full_path)"
   ]
  },
  {
   "cell_type": "code",
   "execution_count": null,
   "metadata": {},
   "outputs": [],
   "source": []
  }
 ],
 "metadata": {
  "colab": {
   "collapsed_sections": [],
   "name": "Cryptocurrency Price Prediction Using Deep Learning.ipynb",
   "provenance": []
  },
  "kernelspec": {
   "display_name": "Python 3",
   "language": "python",
   "name": "python3"
  },
  "language_info": {
   "codemirror_mode": {
    "name": "ipython",
    "version": 3
   },
   "file_extension": ".py",
   "mimetype": "text/x-python",
   "name": "python",
   "nbconvert_exporter": "python",
   "pygments_lexer": "ipython3",
   "version": "3.7.3"
  }
 },
 "nbformat": 4,
 "nbformat_minor": 1
}
