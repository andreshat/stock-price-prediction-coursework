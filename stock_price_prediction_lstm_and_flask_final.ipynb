{
 "cells": [
  {
   "cell_type": "code",
   "execution_count": 1,
   "metadata": {
    "colab": {
     "base_uri": "https://localhost:8080/",
     "height": 71
    },
    "colab_type": "code",
    "id": "iQV2UL22wWOm",
    "outputId": "87929c24-d18f-4f03-cf09-ebb711044fd2"
   },
   "outputs": [],
   "source": [
    "import json\n",
    "import requests\n",
    "from keras.models import Sequential\n",
    "from keras.layers import Activation, Dense, Dropout, LSTM\n",
    "import matplotlib.pyplot as plt\n",
    "import numpy as np\n",
    "import pandas as pd\n",
    "import seaborn as sns\n",
    "from sklearn.metrics import mean_absolute_error\n",
    "from sklearn.preprocessing import MinMaxScaler\n",
    "\n",
    "plt.style.use('ggplot')\n",
    "%matplotlib inline"
   ]
  },
  {
   "cell_type": "code",
   "execution_count": 2,
   "metadata": {},
   "outputs": [
    {
     "data": {
      "text/plain": [
       "'1.19.5'"
      ]
     },
     "execution_count": 2,
     "metadata": {},
     "output_type": "execute_result"
    }
   ],
   "source": [
    "np.__version__"
   ]
  },
  {
   "cell_type": "code",
   "execution_count": 3,
   "metadata": {},
   "outputs": [
    {
     "data": {
      "text/plain": [
       "'0.20.3'"
      ]
     },
     "execution_count": 3,
     "metadata": {},
     "output_type": "execute_result"
    }
   ],
   "source": [
    "import sklearn\n",
    "sklearn.__version__"
   ]
  },
  {
   "cell_type": "markdown",
   "metadata": {},
   "source": [
    "### 1. Get data using API"
   ]
  },
  {
   "cell_type": "markdown",
   "metadata": {},
   "source": [
    "#### Step 1: Send request"
   ]
  },
  {
   "cell_type": "code",
   "execution_count": null,
   "metadata": {},
   "outputs": [],
   "source": [
    "endpoint = 'https://min-api.cryptocompare.com/data/histoday'\n",
    "crypto = 'BTC'\n",
    "limit = 2000\n",
    "res = requests.get(endpoint + '?fsym=' + crypto + '&tsym=USD&limit=' + str(limit))"
   ]
  },
  {
   "cell_type": "markdown",
   "metadata": {},
   "source": [
    "#### Step 2: Load data to the dataframe"
   ]
  },
  {
   "cell_type": "code",
   "execution_count": null,
   "metadata": {
    "colab": {},
    "colab_type": "code",
    "id": "nVG3vREAwq5r"
   },
   "outputs": [],
   "source": [
    "hist = pd.DataFrame(json.loads(res.content)['Data'])\n",
    "hist['date'] = pd.to_datetime(hist['time'], unit='s').dt.strftime('%Y-%m-%d')\n",
    "hist = hist.drop(['time'], axis=1)\n",
    "hist = hist.drop(['conversionSymbol', 'conversionType'], axis=1)\n",
    "hist['crypto'] = crypto\n",
    "\n",
    "target_col = 'close'\n",
    "hist.head()"
   ]
  },
  {
   "cell_type": "code",
   "execution_count": null,
   "metadata": {},
   "outputs": [],
   "source": [
    "# hist.shape"
   ]
  },
  {
   "cell_type": "code",
   "execution_count": 4,
   "metadata": {},
   "outputs": [],
   "source": [
    "# hist = pd.read_csv('crypto_info_df')\n",
    "# hist.rename(columns={'time': 'date'}, inplace=True)\n",
    "# target_col = 'close'"
   ]
  },
  {
   "cell_type": "markdown",
   "metadata": {},
   "source": [
    "### 2. Connect to the PostgreSQL & Create a Database"
   ]
  },
  {
   "cell_type": "markdown",
   "metadata": {},
   "source": [
    "#### Step 1: Import the libraries"
   ]
  },
  {
   "cell_type": "code",
   "execution_count": null,
   "metadata": {},
   "outputs": [],
   "source": [
    "# import sys to get more detailed Python exception info\n",
    "import sys\n",
    "\n",
    "# import the connect library for psycopg2\n",
    "import psycopg2\n",
    "\n",
    "# import the error handling libraries for psycopg2\n",
    "from psycopg2 import OperationalError, errorcodes, errors\n",
    "\n",
    "import psycopg2.extras as extras\n"
   ]
  },
  {
   "cell_type": "markdown",
   "metadata": {},
   "source": [
    "#### Step 2: Specify the connection parameters"
   ]
  },
  {
   "cell_type": "code",
   "execution_count": null,
   "metadata": {},
   "outputs": [],
   "source": [
    "# Note: please change your database, username & password as per your own values\n",
    "\n",
    "conn_params_dic = {\n",
    "    \"host\"      : \"localhost\",\n",
    "    \"user\"      : \"postgres\",\n",
    "    \"password\"  : \"1103\"\n",
    "}"
   ]
  },
  {
   "cell_type": "markdown",
   "metadata": {},
   "source": [
    "#### Step 3: Define a function that handles and parses psycopg2 exceptions"
   ]
  },
  {
   "cell_type": "code",
   "execution_count": null,
   "metadata": {},
   "outputs": [],
   "source": [
    "def show_psycopg2_exception(err):\n",
    "    # get details about the exception\n",
    "    err_type, err_obj, traceback = sys.exc_info()\n",
    "\n",
    "    # get the line number when exception occured\n",
    "    line_n = traceback.tb_lineno\n",
    "\n",
    "    # print the connect() error\n",
    "    print (\"\\npsycopg2 ERROR:\", err, \"on line number:\", line_n)\n",
    "    print (\"psycopg2 traceback:\", traceback, \"-- type:\", err_type)\n",
    "\n",
    "    # psycopg2 extensions.Diagnostics object attribute\n",
    "    print (\"\\nextensions.Diagnostics:\", err.diag)\n",
    "\n",
    "    # print the pgcode and pgerror exceptions\n",
    "    print (\"pgerror:\", err.pgerror)\n",
    "    print (\"pgcode:\", err.pgcode, \"\\n\")"
   ]
  },
  {
   "cell_type": "markdown",
   "metadata": {},
   "source": [
    "#### Step 4: Define a connect function to connect to the PostgreSQL database server"
   ]
  },
  {
   "cell_type": "code",
   "execution_count": null,
   "metadata": {},
   "outputs": [],
   "source": [
    "def connect(conn_params_dic):\n",
    "    conn = None\n",
    "    try:\n",
    "        print('Connecting to the PostgreSQL...........')\n",
    "        conn = psycopg2.connect(**conn_params_dic)\n",
    "        print(\"Connection successful..................\")\n",
    "        \n",
    "    except OperationalError as err:\n",
    "        # pass exception to function\n",
    "        show_psycopg2_exception(err)\n",
    "\n",
    "        # set the connection to 'None' in case of error\n",
    "        conn = None\n",
    "    \n",
    "    print()\n",
    "    return conn"
   ]
  },
  {
   "cell_type": "markdown",
   "metadata": {},
   "source": [
    "#### Step 5: Creates a database named crypto_db in PostgreSQL database"
   ]
  },
  {
   "cell_type": "code",
   "execution_count": null,
   "metadata": {},
   "outputs": [],
   "source": [
    "db_name = 'crypto_db'\n",
    "\n",
    "conn = connect(conn_params_dic)\n",
    "conn.autocommit = True\n",
    "\n",
    "if conn != None:\n",
    "    \n",
    "    try:\n",
    "        cursor = conn.cursor();\n",
    "        # Dropping database if exists\n",
    "        cursor.execute(\"DROP DATABASE IF EXISTS \" + db_name + \";\")\n",
    "    \n",
    "        # Creating a database\n",
    "        cursor.execute(\"CREATE DATABASE \" + db_name + \";\");\n",
    "        print(db_name + \" database is created successfully..................\")\n",
    "    \n",
    "        # Closing the cursor & connection\n",
    "        cursor.close()\n",
    "        conn.close()\n",
    "        \n",
    "    except OperationalError as err:\n",
    "        # pass exception to function\n",
    "        show_psycopg2_exception(err)\n",
    "        # set the connection to 'None' in case of error\n",
    "        conn = None"
   ]
  },
  {
   "cell_type": "markdown",
   "metadata": {},
   "source": [
    "### 3. Pandas DataFrame to PostgreSQL"
   ]
  },
  {
   "cell_type": "markdown",
   "metadata": {},
   "source": [
    "#### Step 1: Add database name to the connection parameters"
   ]
  },
  {
   "cell_type": "code",
   "execution_count": null,
   "metadata": {},
   "outputs": [],
   "source": [
    "conn_params_dic['database'] = db_name"
   ]
  },
  {
   "cell_type": "markdown",
   "metadata": {},
   "source": [
    "#### Step 2. Identify data"
   ]
  },
  {
   "cell_type": "code",
   "execution_count": null,
   "metadata": {},
   "outputs": [],
   "source": [
    "hist.dtypes"
   ]
  },
  {
   "cell_type": "markdown",
   "metadata": {},
   "source": [
    "#### Step 3: Create a table named crypto_info in PostgreSQL database"
   ]
  },
  {
   "cell_type": "code",
   "execution_count": null,
   "metadata": {},
   "outputs": [],
   "source": [
    "table_name = 'crypto_info'\n",
    "\n",
    "conn = connect(conn_params_dic)\n",
    "conn.autocommit = True\n",
    "\n",
    "if conn != None:\n",
    "    \n",
    "    try:\n",
    "        cursor = conn.cursor();\n",
    "        # Dropping table if exists\n",
    "        cursor.execute(\"DROP TABLE IF EXISTS \" + table_name + \";\")\n",
    "        \n",
    "        sql = '''CREATE TABLE crypto_info(\n",
    "        id SERIAL PRIMARY KEY,\n",
    "        date DATE NOT NULL,\n",
    "        close NUMERIC(12, 2) NOT NULL, \n",
    "        high DECIMAL(12, 2) NOT NULL, \n",
    "        low DECIMAL(12, 2) NOT NULL, \n",
    "        open DECIMAL(12, 2) NOT NULL, \n",
    "        volumefrom DECIMAL(18, 2) NOT NULL, \n",
    "        volumeto DECIMAL(18, 2) NOT NULL,\n",
    "        crypto CHAR(11) NOT NULL\n",
    "        )'''\n",
    "        \n",
    "        # Creating a table\n",
    "        cursor.execute(sql);\n",
    "        print(table_name + \" table is created successfully..................\")\n",
    "    \n",
    "        # Closing the cursor & connection\n",
    "        cursor.close()\n",
    "        conn.close()\n",
    "        \n",
    "    except OperationalError as err:\n",
    "        # pass exception to function\n",
    "        show_psycopg2_exception(err)\n",
    "        # set the connection to 'None' in case of error\n",
    "        conn = None"
   ]
  },
  {
   "cell_type": "markdown",
   "metadata": {},
   "source": [
    "#### Step 4: Define function to insert dataframe into table"
   ]
  },
  {
   "cell_type": "code",
   "execution_count": null,
   "metadata": {},
   "outputs": [],
   "source": [
    "# Define function using psycopg2.extras.execute_batch() to insert the dataframe\n",
    "def execute_batch(conn, datafrm, table, page_size=500):\n",
    "    \n",
    "    # Creating a list of tupples from the dataframe values\n",
    "    tpls = [tuple(x) for x in datafrm.to_numpy()]\n",
    "    \n",
    "    # dataframe columns with Comma-separated\n",
    "    cols = ', '.join(list(datafrm.columns))\n",
    "    \n",
    "    # SQL query to execute\n",
    "    str_table_data = ', '.join(\"{}\".format(data) for data in tpls)\n",
    "    \n",
    "    sql = \"INSERT INTO {} ({}) VALUES {}\".format(table, cols, str_table_data)\n",
    "\n",
    "    cursor = conn.cursor()\n",
    "    try:\n",
    "        cursor.execute(sql)\n",
    "        conn.commit()\n",
    "        print(\"Data inserted using execute_batch() successfully...\")\n",
    "    except (Exception, psycopg2.DatabaseError) as err:\n",
    "        # pass exception to function\n",
    "        show_psycopg2_exception(err)\n",
    "        cursor.close()"
   ]
  },
  {
   "cell_type": "markdown",
   "metadata": {},
   "source": [
    "#### Step 5: List PostgreSQL tables"
   ]
  },
  {
   "cell_type": "code",
   "execution_count": null,
   "metadata": {},
   "outputs": [],
   "source": [
    "# Print tables in a database\n",
    "conn = connect(conn_params_dic)\n",
    "conn.autocommit = True\n",
    "\n",
    "cursor = conn.cursor()\n",
    "get_tables_query = \"\"\"SELECT table_schema, table_name\n",
    "                        FROM information_schema.tables\n",
    "                        WHERE (\n",
    "                            table_schema = 'public'\n",
    "                        )\n",
    "                        ORDER BY table_schema, table_name;\n",
    "                        \"\"\"\n",
    "cursor.execute(get_tables_query)\n",
    "list_tables = cursor.fetchall()\n",
    "\n",
    "print('PostgreSQL tables:')\n",
    "for table_schema, table_name in list_tables:\n",
    "    print(\"Table schema: {}, table name: {}\". format(table_schema, table_name))\n",
    "\n",
    "cursor.close()\n",
    "conn.close()"
   ]
  },
  {
   "cell_type": "markdown",
   "metadata": {},
   "source": [
    "#### Step 6: Perform data insertion to the table"
   ]
  },
  {
   "cell_type": "code",
   "execution_count": null,
   "metadata": {},
   "outputs": [],
   "source": [
    "conn = connect(conn_params_dic)\n",
    "conn.autocommit = True\n",
    "\n",
    "cursor = conn.cursor()\n",
    "execute_batch(conn, hist, table_name)\n",
    "\n",
    "cursor.close()\n",
    "conn.close()"
   ]
  },
  {
   "cell_type": "markdown",
   "metadata": {},
   "source": [
    "#### Step 7: Output first 5 inserted rows"
   ]
  },
  {
   "cell_type": "code",
   "execution_count": null,
   "metadata": {},
   "outputs": [],
   "source": [
    "# Print first 5 rows in a database\n",
    "conn = connect(conn_params_dic)\n",
    "conn.autocommit = True\n",
    "\n",
    "cursor = conn.cursor()\n",
    "try:\n",
    "    cursor.execute(\"SELECT * from crypto_info LIMIT 5;\")\n",
    "    records = cursor.fetchall()\n",
    "    for record in records:\n",
    "        print(record)\n",
    "except:\n",
    "    print(\"Unable to SELECT\")\n",
    "\n",
    "cursor.close()\n",
    "conn.close()"
   ]
  },
  {
   "cell_type": "markdown",
   "metadata": {},
   "source": [
    "### 4. Data preprocessing"
   ]
  },
  {
   "cell_type": "markdown",
   "metadata": {},
   "source": [
    "#### Step 1: Drop non numeric columns "
   ]
  },
  {
   "cell_type": "code",
   "execution_count": 6,
   "metadata": {},
   "outputs": [],
   "source": [
    "# numeric_hist = hist._get_numeric_data().copy()\n",
    "numeric_hist = hist[[target_col]].copy()"
   ]
  },
  {
   "cell_type": "markdown",
   "metadata": {},
   "source": [
    "#### Step 2: Split data on train and test"
   ]
  },
  {
   "cell_type": "code",
   "execution_count": 7,
   "metadata": {
    "colab": {},
    "colab_type": "code",
    "id": "WPPn3soJw7hM"
   },
   "outputs": [],
   "source": [
    "def train_test_split(df, test_size=0.2):\n",
    "    split_row = len(df) - int(test_size * len(df))\n",
    "    train_data = df.iloc[:split_row]\n",
    "    test_data = df.iloc[split_row:]\n",
    "    return train_data, test_data"
   ]
  },
  {
   "cell_type": "code",
   "execution_count": 8,
   "metadata": {
    "colab": {},
    "colab_type": "code",
    "id": "TN54bUbJxFAR"
   },
   "outputs": [],
   "source": [
    "train, test = train_test_split(numeric_hist, test_size=0.2)"
   ]
  },
  {
   "cell_type": "markdown",
   "metadata": {},
   "source": [
    "#### Step 3: Visualize data "
   ]
  },
  {
   "cell_type": "code",
   "execution_count": 9,
   "metadata": {
    "colab": {},
    "colab_type": "code",
    "id": "QDVmOaKjxHsq"
   },
   "outputs": [],
   "source": [
    "def line_plot(line1, line2, label1=None, label2=None, title='', lw=2):\n",
    "    fig, ax = plt.subplots(1, figsize=(13, 7))\n",
    "    ax.plot(line1, label=label1, linewidth=lw)\n",
    "    ax.plot(line2, label=label2, linewidth=lw)\n",
    "    ax.set_ylabel('price [USD]', fontsize=14)\n",
    "    ax.set_title(title, fontsize=16)\n",
    "    ax.legend(loc='best', fontsize=16);"
   ]
  },
  {
   "cell_type": "code",
   "execution_count": 10,
   "metadata": {
    "colab": {
     "base_uri": "https://localhost:8080/",
     "height": 428
    },
    "colab_type": "code",
    "id": "n5Vtnp5BxLPV",
    "outputId": "7b31eae0-8d0a-400c-fc68-1a767ff49603"
   },
   "outputs": [
    {
     "data": {
      "image/png": "[encoded data removed]",
      "text/plain": [
       "<Figure size 936x504 with 1 Axes>"
      ]
     },
     "metadata": {
      "needs_background": "light"
     },
     "output_type": "display_data"
    }
   ],
   "source": [
    "line_plot(train[target_col], test[target_col], 'Training', 'Test', title='')"
   ]
  },
  {
   "cell_type": "markdown",
   "metadata": {},
   "source": [
    " #### Step 4: Data normalization "
   ]
  },
  {
   "cell_type": "code",
   "execution_count": 77,
   "metadata": {},
   "outputs": [],
   "source": [
    "scaler = MinMaxScaler()"
   ]
  },
  {
   "cell_type": "code",
   "execution_count": 78,
   "metadata": {},
   "outputs": [],
   "source": [
    "train_norm = pd.DataFrame(scaler.fit_transform(train), columns=train.columns)\n",
    "test_norm = pd.DataFrame(scaler.transform(test), columns=test.columns)\n",
    "# inverse_tranform"
   ]
  },
  {
   "cell_type": "code",
   "execution_count": 79,
   "metadata": {},
   "outputs": [
    {
     "data": {
      "image/png": "[encoded data removed]",
      "text/plain": [
       "<Figure size 936x504 with 1 Axes>"
      ]
     },
     "metadata": {},
     "output_type": "display_data"
    }
   ],
   "source": [
    "line_plot(train_norm[target_col], test_norm[target_col], 'Training', 'Test', title='Normalized data')"
   ]
  },
  {
   "cell_type": "markdown",
   "metadata": {},
   "source": [
    "#### Step 5: Sliding window "
   ]
  },
  {
   "cell_type": "code",
   "execution_count": 14,
   "metadata": {},
   "outputs": [],
   "source": [
    "def extract_window_data(df, window_len=5):\n",
    "    window_data = []\n",
    "    for idx in range(len(df) - window_len):\n",
    "        tmp = df[idx: (idx + window_len)].copy()\n",
    "        window_data.append(tmp.values)\n",
    "    return np.array(window_data)"
   ]
  },
  {
   "cell_type": "code",
   "execution_count": 15,
   "metadata": {},
   "outputs": [],
   "source": [
    "from db_config.config import ModelConfig\n",
    "model_config = ModelConfig()"
   ]
  },
  {
   "cell_type": "code",
   "execution_count": 16,
   "metadata": {},
   "outputs": [
    {
     "data": {
      "text/plain": [
       "360"
      ]
     },
     "execution_count": 16,
     "metadata": {},
     "output_type": "execute_result"
    }
   ],
   "source": [
    "model_config.window_size"
   ]
  },
  {
   "cell_type": "code",
   "execution_count": 17,
   "metadata": {},
   "outputs": [],
   "source": [
    "window_len = model_config.window_size\n",
    "X_train = extract_window_data(train_norm, window_len)\n",
    "X_test = extract_window_data(test_norm, window_len)"
   ]
  },
  {
   "cell_type": "code",
   "execution_count": 18,
   "metadata": {},
   "outputs": [],
   "source": [
    "y_train = train_norm[target_col][window_len:].values\n",
    "y_test = test_norm[target_col][window_len:].values"
   ]
  },
  {
   "cell_type": "markdown",
   "metadata": {},
   "source": [
    "### 5. Building LSTM"
   ]
  },
  {
   "cell_type": "markdown",
   "metadata": {},
   "source": [
    "#### Step 1: Initialize LSTM "
   ]
  },
  {
   "cell_type": "code",
   "execution_count": 19,
   "metadata": {},
   "outputs": [],
   "source": [
    "def build_lstm_model(input_data, output_size, neurons=100, activ_func='linear',\n",
    "                     dropout=0.2, loss='mse', optimizer='adam'):\n",
    "    model = Sequential()\n",
    "    model.add(LSTM(neurons, input_shape=(input_data.shape[1], input_data.shape[2])))\n",
    "    model.add(Dropout(dropout))\n",
    "    model.add(Dense(units=output_size))\n",
    "    model.add(Activation(activ_func))\n",
    "\n",
    "    model.compile(loss=loss, optimizer=optimizer)\n",
    "    return model"
   ]
  },
  {
   "cell_type": "markdown",
   "metadata": {},
   "source": [
    "#### Step 2: Initialize params "
   ]
  },
  {
   "cell_type": "code",
   "execution_count": 20,
   "metadata": {},
   "outputs": [],
   "source": [
    "np.random.seed(42)\n",
    "lstm_neurons = 100\n",
    "epochs = 50\n",
    "batch_size = 32\n",
    "loss = 'mse'\n",
    "dropout = 0.2\n",
    "optimizer = 'adam'"
   ]
  },
  {
   "cell_type": "markdown",
   "metadata": {},
   "source": [
    "#### Step 3: Run LSTM "
   ]
  },
  {
   "cell_type": "code",
   "execution_count": 21,
   "metadata": {},
   "outputs": [
    {
     "data": {
      "text/plain": [
       "(1241, 360, 1)"
      ]
     },
     "execution_count": 21,
     "metadata": {},
     "output_type": "execute_result"
    }
   ],
   "source": [
    "X_train.shape"
   ]
  },
  {
   "cell_type": "code",
   "execution_count": 22,
   "metadata": {},
   "outputs": [],
   "source": [
    "model = build_lstm_model(\n",
    "    X_train, \n",
    "    output_size=1, \n",
    "    neurons=lstm_neurons, \n",
    "    dropout=dropout, \n",
    "    loss=loss,\n",
    "    optimizer=optimizer)"
   ]
  },
  {
   "cell_type": "code",
   "execution_count": 23,
   "metadata": {},
   "outputs": [
    {
     "name": "stdout",
     "output_type": "stream",
     "text": [
      "Epoch 1/50\n",
      "39/39 [==============================] - 7s 177ms/step - loss: 0.0076 - val_loss: 1.0252\n",
      "Epoch 2/50\n",
      "39/39 [==============================] - 7s 168ms/step - loss: 0.0092 - val_loss: 0.2049\n",
      "Epoch 3/50\n",
      "39/39 [==============================] - 6s 162ms/step - loss: 0.0020 - val_loss: 0.2624\n",
      "Epoch 4/50\n",
      "39/39 [==============================] - 6s 163ms/step - loss: 0.0020 - val_loss: 0.1721\n",
      "Epoch 5/50\n",
      "39/39 [==============================] - 6s 162ms/step - loss: 0.0018 - val_loss: 0.3160\n",
      "Epoch 6/50\n",
      "39/39 [==============================] - 7s 176ms/step - loss: 0.0022 - val_loss: 0.1278\n",
      "Epoch 7/50\n",
      "39/39 [==============================] - 7s 171ms/step - loss: 0.0017 - val_loss: 0.2684\n",
      "Epoch 8/50\n",
      "39/39 [==============================] - 7s 170ms/step - loss: 0.0017 - val_loss: 0.1503\n",
      "Epoch 9/50\n",
      "39/39 [==============================] - 7s 174ms/step - loss: 0.0016 - val_loss: 0.2812\n",
      "Epoch 10/50\n",
      "39/39 [==============================] - 7s 168ms/step - loss: 0.0018 - val_loss: 0.1604\n",
      "Epoch 11/50\n",
      "39/39 [==============================] - 7s 171ms/step - loss: 0.0014 - val_loss: 0.2305\n",
      "Epoch 12/50\n",
      "39/39 [==============================] - 7s 167ms/step - loss: 0.0014 - val_loss: 0.2021\n",
      "Epoch 13/50\n",
      "39/39 [==============================] - 7s 171ms/step - loss: 0.0013 - val_loss: 0.2009\n",
      "Epoch 14/50\n",
      "39/39 [==============================] - 6s 164ms/step - loss: 0.0012 - val_loss: 0.2376\n",
      "Epoch 15/50\n",
      "39/39 [==============================] - 6s 163ms/step - loss: 0.0014 - val_loss: 0.1926\n",
      "Epoch 16/50\n",
      "39/39 [==============================] - 7s 167ms/step - loss: 0.0015 - val_loss: 0.1538\n",
      "Epoch 17/50\n",
      "39/39 [==============================] - 7s 169ms/step - loss: 0.0012 - val_loss: 0.2373\n",
      "Epoch 18/50\n",
      "39/39 [==============================] - 6s 165ms/step - loss: 0.0012 - val_loss: 0.1825\n",
      "Epoch 19/50\n",
      "39/39 [==============================] - 6s 161ms/step - loss: 0.0014 - val_loss: 0.1392\n",
      "Epoch 20/50\n",
      "39/39 [==============================] - 6s 163ms/step - loss: 0.0014 - val_loss: 0.0886\n",
      "Epoch 21/50\n",
      "39/39 [==============================] - 7s 170ms/step - loss: 0.0011 - val_loss: 0.1421\n",
      "Epoch 22/50\n",
      "39/39 [==============================] - 6s 166ms/step - loss: 0.0013 - val_loss: 0.1133\n",
      "Epoch 23/50\n",
      "39/39 [==============================] - 6s 166ms/step - loss: 9.9390e-04 - val_loss: 0.1588\n",
      "Epoch 24/50\n",
      "39/39 [==============================] - 6s 164ms/step - loss: 0.0012 - val_loss: 0.1274\n",
      "Epoch 25/50\n",
      "39/39 [==============================] - 6s 164ms/step - loss: 0.0016 - val_loss: 0.0982\n",
      "Epoch 26/50\n",
      "39/39 [==============================] - 7s 168ms/step - loss: 0.0011 - val_loss: 0.0975\n",
      "Epoch 27/50\n",
      "39/39 [==============================] - 6s 163ms/step - loss: 0.0011 - val_loss: 0.0990\n",
      "Epoch 28/50\n",
      "39/39 [==============================] - 6s 166ms/step - loss: 0.0011 - val_loss: 0.1070\n",
      "Epoch 29/50\n",
      "39/39 [==============================] - 7s 173ms/step - loss: 9.0645e-04 - val_loss: 0.1264\n",
      "Epoch 30/50\n",
      "39/39 [==============================] - 7s 168ms/step - loss: 0.0012 - val_loss: 0.1270\n",
      "Epoch 31/50\n",
      "39/39 [==============================] - 6s 165ms/step - loss: 9.8426e-04 - val_loss: 0.1428\n",
      "Epoch 32/50\n",
      "39/39 [==============================] - 6s 163ms/step - loss: 9.7687e-04 - val_loss: 0.1592\n",
      "Epoch 33/50\n",
      "39/39 [==============================] - 7s 168ms/step - loss: 0.0011 - val_loss: 0.1132\n",
      "Epoch 34/50\n",
      "39/39 [==============================] - 6s 164ms/step - loss: 0.0012 - val_loss: 0.1109\n",
      "Epoch 35/50\n",
      "39/39 [==============================] - 6s 165ms/step - loss: 9.6926e-04 - val_loss: 0.1375\n",
      "Epoch 36/50\n",
      "39/39 [==============================] - 6s 164ms/step - loss: 0.0010 - val_loss: 0.1421\n",
      "Epoch 37/50\n",
      "39/39 [==============================] - 6s 163ms/step - loss: 0.0011 - val_loss: 0.1275\n",
      "Epoch 38/50\n",
      "39/39 [==============================] - 7s 169ms/step - loss: 9.6654e-04 - val_loss: 0.1141\n",
      "Epoch 39/50\n",
      "39/39 [==============================] - 6s 166ms/step - loss: 9.5031e-04 - val_loss: 0.1391\n",
      "Epoch 40/50\n",
      "39/39 [==============================] - 7s 169ms/step - loss: 0.0011 - val_loss: 0.0953\n",
      "Epoch 41/50\n",
      "39/39 [==============================] - 7s 170ms/step - loss: 0.0010 - val_loss: 0.1206\n",
      "Epoch 42/50\n",
      "39/39 [==============================] - 6s 164ms/step - loss: 0.0012 - val_loss: 0.0676\n",
      "Epoch 43/50\n",
      "39/39 [==============================] - 6s 164ms/step - loss: 8.4679e-04 - val_loss: 0.1139\n",
      "Epoch 44/50\n",
      "39/39 [==============================] - 6s 161ms/step - loss: 9.1599e-04 - val_loss: 0.0863\n",
      "Epoch 45/50\n",
      "39/39 [==============================] - 7s 173ms/step - loss: 9.4096e-04 - val_loss: 0.0947\n",
      "Epoch 46/50\n",
      "39/39 [==============================] - 6s 164ms/step - loss: 8.3315e-04 - val_loss: 0.0991\n",
      "Epoch 47/50\n",
      "39/39 [==============================] - 6s 166ms/step - loss: 8.8349e-04 - val_loss: 0.1341\n",
      "Epoch 48/50\n",
      "39/39 [==============================] - 6s 166ms/step - loss: 8.9727e-04 - val_loss: 0.1288\n",
      "Epoch 49/50\n",
      "39/39 [==============================] - 7s 167ms/step - loss: 8.6969e-04 - val_loss: 0.1317\n",
      "Epoch 50/50\n",
      "39/39 [==============================] - 7s 171ms/step - loss: 9.1336e-04 - val_loss: 0.1284\n"
     ]
    }
   ],
   "source": [
    "history = model.fit(\n",
    "    X_train, \n",
    "    y_train, \n",
    "    validation_data=(X_test, y_test), \n",
    "    epochs=epochs, \n",
    "    batch_size=batch_size, \n",
    "    verbose=1, \n",
    "    shuffle=False)"
   ]
  },
  {
   "cell_type": "code",
   "execution_count": 24,
   "metadata": {},
   "outputs": [
    {
     "data": {
      "text/plain": [
       "(40, 360, 1)"
      ]
     },
     "execution_count": 24,
     "metadata": {},
     "output_type": "execute_result"
    }
   ],
   "source": [
    "X_test.shape"
   ]
  },
  {
   "cell_type": "code",
   "execution_count": 25,
   "metadata": {},
   "outputs": [
    {
     "data": {
      "text/plain": [
       "2.5337127749652253"
      ]
     },
     "execution_count": 25,
     "metadata": {},
     "output_type": "execute_result"
    }
   ],
   "source": [
    "y_test[2]"
   ]
  },
  {
   "cell_type": "code",
   "execution_count": 26,
   "metadata": {},
   "outputs": [
    {
     "data": {
      "text/plain": [
       "0.33977104891436094"
      ]
     },
     "execution_count": 26,
     "metadata": {},
     "output_type": "execute_result"
    }
   ],
   "source": [
    "y_pred = model.predict(X_test).squeeze()\n",
    "mean_absolute_error(y_pred, y_test)"
   ]
  },
  {
   "cell_type": "code",
   "execution_count": 85,
   "metadata": {},
   "outputs": [
    {
     "name": "stdout",
     "output_type": "stream",
     "text": [
      "MAE = [6729.32022407]\n"
     ]
    }
   ],
   "source": [
    "print(\"MAE = {}\".format(scaler.inverse_transform(mean_absolute_error(y_pred, y_test).reshape(-1, 1))[0]))"
   ]
  },
  {
   "cell_type": "markdown",
   "metadata": {},
   "source": [
    "#### Step 4: Visualize training and validation loss "
   ]
  },
  {
   "cell_type": "code",
   "execution_count": 27,
   "metadata": {},
   "outputs": [],
   "source": [
    "plt.style.use('ggplot')\n",
    "\n",
    "def plot_history(history):\n",
    "#     acc = history.history['accuracy']\n",
    "#     val_acc = history.history['val_accuracy']\n",
    "    loss = history.history['loss']\n",
    "    val_loss = history.history['val_loss']\n",
    "    x = range(1, len(loss) + 1)\n",
    "\n",
    "    plt.figure(figsize=(12, 5))\n",
    "#     plt.subplot(1, 2, 1)\n",
    "#     plt.plot(x, acc, 'b', label='Training acc')\n",
    "#     plt.plot(x, val_acc, 'r', label='Validation acc')\n",
    "#     plt.title('Training and validation accuracy')\n",
    "#     plt.legend()\n",
    "    plt.subplot(1, 2, 2)\n",
    "    plt.plot(x, loss, 'b', label='Training loss')\n",
    "    plt.plot(x, val_loss, 'r', label='Validation loss')\n",
    "    plt.title('Training and validation loss')\n",
    "    plt.legend()"
   ]
  },
  {
   "cell_type": "code",
   "execution_count": 29,
   "metadata": {},
   "outputs": [
    {
     "data": {
      "image/png": "[encoded data removed]",
      "text/plain": [
       "<Figure size 864x360 with 1 Axes>"
      ]
     },
     "metadata": {},
     "output_type": "display_data"
    }
   ],
   "source": [
    "plot_history(history)"
   ]
  },
  {
   "cell_type": "markdown",
   "metadata": {},
   "source": [
    "#### Step 5: Visualize prediction "
   ]
  },
  {
   "cell_type": "code",
   "execution_count": 30,
   "metadata": {},
   "outputs": [
    {
     "data": {
      "image/png": "[encoded data removed]",
      "text/plain": [
       "<Figure size 936x504 with 1 Axes>"
      ]
     },
     "metadata": {},
     "output_type": "display_data"
    }
   ],
   "source": [
    "line_plot(y_test, y_pred, 'actual', 'prediction', lw=3)"
   ]
  },
  {
   "cell_type": "markdown",
   "metadata": {},
   "source": [
    "#### Step 6: Model overview"
   ]
  },
  {
   "cell_type": "code",
   "execution_count": 67,
   "metadata": {},
   "outputs": [
    {
     "name": "stdout",
     "output_type": "stream",
     "text": [
      "Model: \"sequential\"\n",
      "_________________________________________________________________\n",
      "Layer (type)                 Output Shape              Param #   \n",
      "=================================================================\n",
      "lstm (LSTM)                  (None, 100)               40800     \n",
      "_________________________________________________________________\n",
      "dropout (Dropout)            (None, 100)               0         \n",
      "_________________________________________________________________\n",
      "dense (Dense)                (None, 1)                 101       \n",
      "_________________________________________________________________\n",
      "activation (Activation)      (None, 1)                 0         \n",
      "=================================================================\n",
      "Total params: 40,901\n",
      "Trainable params: 40,901\n",
      "Non-trainable params: 0\n",
      "_________________________________________________________________\n"
     ]
    }
   ],
   "source": [
    "model.summary()"
   ]
  },
  {
   "cell_type": "markdown",
   "metadata": {},
   "source": [
    "### 6. Tune LSTM"
   ]
  },
  {
   "cell_type": "code",
   "execution_count": null,
   "metadata": {},
   "outputs": [],
   "source": []
  },
  {
   "cell_type": "code",
   "execution_count": null,
   "metadata": {},
   "outputs": [],
   "source": []
  },
  {
   "cell_type": "markdown",
   "metadata": {},
   "source": [
    "### 7. Recursive Multi-step Forecast "
   ]
  },
  {
   "cell_type": "markdown",
   "metadata": {},
   "source": [
    "### 8. Pipeline "
   ]
  },
  {
   "cell_type": "code",
   "execution_count": 5,
   "metadata": {},
   "outputs": [],
   "source": [
    "from keras.wrappers.scikit_learn import KerasRegressor\n",
    "from sklearn.pipeline import Pipeline\n",
    "from sklearn.base import BaseEstimator, TransformerMixin"
   ]
  },
  {
   "cell_type": "code",
   "execution_count": 6,
   "metadata": {},
   "outputs": [],
   "source": [
    "def y_pred_line_plot(line1, label1=None, title='Predicted stock prices', lw=2, save=False, save_path='\\static', file_name = 'test.png'):\n",
    "    fig, ax = plt.subplots(1, figsize=(13, 7))\n",
    "    ax.plot(line1, label=label1, linewidth=lw)\n",
    "    ax.set_ylabel('price [USD]', fontsize=14)\n",
    "    ax.set_title(title, fontsize=16)\n",
    "    ax.legend(loc='best', fontsize=16)\n",
    "    \n",
    "    if save:\n",
    "        full_path = os.path.join(save_path, file_name)\n",
    "        fig.savefig(full_path)"
   ]
  },
  {
   "cell_type": "code",
   "execution_count": 7,
   "metadata": {},
   "outputs": [],
   "source": [
    "class CustomNormalizer(BaseEstimator, TransformerMixin):\n",
    "    def __init__(self):\n",
    "        super().__init__()\n",
    "        self.scaler = MinMaxScaler()\n",
    "\n",
    "    def fit(self, X, y=None):\n",
    "        inp_shape = X.shape\n",
    "        X = X.reshape(-1, 1)\n",
    "        X_norm = self.scaler.fit(X)\n",
    "        X_norm = X_norm.reshape(inp_shape)\n",
    "        return self\n",
    "        \n",
    "        \n",
    "    def fit_transform(self, X, y=None):\n",
    "        inp_shape = X.shape\n",
    "        X = X.reshape(-1, 1)\n",
    "        X_norm = (self.scaler).fit_transform(X)        \n",
    "        X_norm = X_norm.reshape(inp_shape)\n",
    "        return X_norm\n",
    "\n",
    "    def transform(self, X, y=None):\n",
    "        inp_shape = X.shape\n",
    "        X = X.reshape(-1, 1)        \n",
    "        X_trans = self.scaler.transform(X)\n",
    "        X_trans = X_trans.reshape(inp_shape)\n",
    "        return X_trans"
   ]
  },
  {
   "cell_type": "code",
   "execution_count": 8,
   "metadata": {},
   "outputs": [],
   "source": [
    "def df_data_inv_transformer(scaler, transformed_data):\n",
    "    data = scaler.inverse_transformer(transformed_data)\n",
    "    return data"
   ]
  },
  {
   "cell_type": "code",
   "execution_count": 9,
   "metadata": {},
   "outputs": [],
   "source": [
    "def lstm_stock_predictions(num_days, data, model):\n",
    "    y_pred_arr = []\n",
    "    for day in range(num_days):\n",
    "        y_pred = model.predict(data)\n",
    "        y_pred_arr.append(y_pred)\n",
    "        push(data, y_pred)\n",
    "        \n",
    "    return y_pred_arr"
   ]
  },
  {
   "cell_type": "code",
   "execution_count": 10,
   "metadata": {},
   "outputs": [],
   "source": [
    "def build_lstm_model(input_data, output_size, neurons=100, activ_func='linear',\n",
    "                     dropout=0.2, loss='mse', optimizer='adam'):\n",
    "    model = Sequential()\n",
    "    model.add(LSTM(neurons, input_shape=(input_data.shape[1], input_data.shape[2])))\n",
    "    model.add(Dropout(dropout))\n",
    "    model.add(Dense(units=output_size))\n",
    "    model.add(Activation(activ_func))\n",
    "\n",
    "    model.compile(loss=loss, optimizer=optimizer)\n",
    "    return model"
   ]
  },
  {
   "cell_type": "code",
   "execution_count": 11,
   "metadata": {},
   "outputs": [],
   "source": [
    "# create a feature preparation pipeline for a model\n",
    "def make_pipeline(model, input_data, output_size, neurons, dropout, loss, optimizer, epochs, batch_size, verbose=1, shuffle=False):\n",
    "    steps = list()\n",
    "    \n",
    "    # normalization\n",
    "    steps.append(('normalize', CustomNormalizer()))\n",
    "    \n",
    "    \n",
    "    # the model\n",
    "    steps.append(('model', KerasRegressor(\n",
    "        build_fn=model, \n",
    "        input_data=input_data, \n",
    "        output_size=output_size, \n",
    "        neurons=neurons, \n",
    "        dropout=dropout, \n",
    "        loss=loss, \n",
    "        optimizer=optimizer,\n",
    "        epochs=epochs,\n",
    "        batch_size=batch_size,\n",
    "        verbose=verbose,\n",
    "        shuffle=shuffle)))\n",
    "    \n",
    "    # create pipeline\n",
    "    pipeline = Pipeline(steps=steps)\n",
    "    return pipeline"
   ]
  },
  {
   "cell_type": "code",
   "execution_count": 51,
   "metadata": {},
   "outputs": [],
   "source": [
    "# window_len = model_config.window_size\n",
    "# seed = 42\n",
    "# np.random.seed(seed)\n",
    "# lstm_neurons = 100\n",
    "epochs = 25\n",
    "# batch_size = 32\n",
    "# loss = 'mse'\n",
    "# dropout = 0.2\n",
    "# optimizer = 'adam'"
   ]
  },
  {
   "cell_type": "code",
   "execution_count": 52,
   "metadata": {},
   "outputs": [],
   "source": [
    "pipeline = make_pipeline(build_lstm_model,\n",
    "                         input_data=X_train,\n",
    "                         output_size=1,\n",
    "                         neurons=lstm_neurons,\n",
    "                         dropout=dropout,\n",
    "                         loss=loss,\n",
    "                         optimizer=optimizer,\n",
    "                         epochs=epochs,\n",
    "                         batch_size=batch_size)"
   ]
  },
  {
   "cell_type": "code",
   "execution_count": 53,
   "metadata": {},
   "outputs": [],
   "source": [
    "X = extract_window_data(numeric_hist, window_len)\n",
    "y = numeric_hist[target_col][window_len:].values"
   ]
  },
  {
   "cell_type": "code",
   "execution_count": 54,
   "metadata": {},
   "outputs": [],
   "source": [
    "scaler = MinMaxScaler()\n",
    "scaler.fit(X.reshape(-1, 1))\n",
    "\n",
    "y = scaler.transform(y.reshape(-1, 1)).reshape(y.shape)"
   ]
  },
  {
   "cell_type": "code",
   "execution_count": 55,
   "metadata": {},
   "outputs": [
    {
     "name": "stdout",
     "output_type": "stream",
     "text": [
      "Epoch 1/25\n",
      "52/52 [==============================] - 9s 168ms/step - loss: 0.0030\n",
      "Epoch 2/25\n",
      "52/52 [==============================] - 8s 155ms/step - loss: 0.0036\n",
      "Epoch 3/25\n",
      "52/52 [==============================] - 8s 161ms/step - loss: 0.0052\n",
      "Epoch 4/25\n",
      "52/52 [==============================] - 8s 161ms/step - loss: 0.0037\n",
      "Epoch 5/25\n",
      "52/52 [==============================] - 9s 166ms/step - loss: 0.0013\n",
      "Epoch 6/25\n",
      "52/52 [==============================] - 8s 161ms/step - loss: 0.0019\n",
      "Epoch 7/25\n",
      "52/52 [==============================] - 8s 163ms/step - loss: 0.0041\n",
      "Epoch 8/25\n",
      "52/52 [==============================] - 9s 172ms/step - loss: 0.0024\n",
      "Epoch 9/25\n",
      "52/52 [==============================] - 9s 171ms/step - loss: 0.0017\n",
      "Epoch 10/25\n",
      "52/52 [==============================] - 9s 170ms/step - loss: 0.0025\n",
      "Epoch 11/25\n",
      "52/52 [==============================] - 8s 161ms/step - loss: 0.0046\n",
      "Epoch 12/25\n",
      "52/52 [==============================] - 9s 168ms/step - loss: 0.0023\n",
      "Epoch 13/25\n",
      "52/52 [==============================] - 9s 178ms/step - loss: 0.0013\n",
      "Epoch 14/25\n",
      "52/52 [==============================] - 9s 168ms/step - loss: 0.0016\n",
      "Epoch 15/25\n",
      "52/52 [==============================] - 9s 166ms/step - loss: 0.0025\n",
      "Epoch 16/25\n",
      "52/52 [==============================] - 9s 169ms/step - loss: 0.0018\n",
      "Epoch 17/25\n",
      "52/52 [==============================] - 9s 169ms/step - loss: 0.0021\n",
      "Epoch 18/25\n",
      "52/52 [==============================] - 9s 172ms/step - loss: 0.0019\n",
      "Epoch 19/25\n",
      "52/52 [==============================] - 9s 173ms/step - loss: 0.0017\n",
      "Epoch 20/25\n",
      "52/52 [==============================] - 9s 172ms/step - loss: 0.0016\n",
      "Epoch 21/25\n",
      "52/52 [==============================] - 9s 173ms/step - loss: 0.0020\n",
      "Epoch 22/25\n",
      "52/52 [==============================] - 9s 177ms/step - loss: 0.0016\n",
      "Epoch 23/25\n",
      "52/52 [==============================] - 9s 176ms/step - loss: 0.0016\n",
      "Epoch 24/25\n",
      "52/52 [==============================] - 9s 178ms/step - loss: 0.0014\n",
      "Epoch 25/25\n",
      "52/52 [==============================] - 9s 176ms/step - loss: 9.8026e-04\n"
     ]
    },
    {
     "data": {
      "text/plain": [
       "Pipeline(memory=None,\n",
       "     steps=[('normalize', CustomNormalizer()), ('model', <tensorflow.python.keras.wrappers.scikit_learn.KerasRegressor object at 0x0000019DCED40EF0>)])"
      ]
     },
     "execution_count": 55,
     "metadata": {},
     "output_type": "execute_result"
    }
   ],
   "source": [
    "pipeline.fit(X, y)"
   ]
  },
  {
   "cell_type": "markdown",
   "metadata": {},
   "source": [
    "### 9. Save scaler and pipeline "
   ]
  },
  {
   "cell_type": "code",
   "execution_count": 56,
   "metadata": {},
   "outputs": [],
   "source": [
    "import joblib\n",
    "\n",
    "from keras.models import load_model\n",
    "# import pickle\n",
    "# import cloudpickle"
   ]
  },
  {
   "cell_type": "code",
   "execution_count": 57,
   "metadata": {},
   "outputs": [],
   "source": [
    "save_models_path = \"../coursework_project_64/models/\""
   ]
  },
  {
   "cell_type": "code",
   "execution_count": 58,
   "metadata": {},
   "outputs": [
    {
     "data": {
      "text/plain": [
       "['../coursework_project_64/models/lstm_pipeline.pkl']"
      ]
     },
     "execution_count": 58,
     "metadata": {},
     "output_type": "execute_result"
    }
   ],
   "source": [
    "joblib.dump(scaler, save_models_path + 'min_max_scaler.pkl')\n",
    "# scaler = joblib.load('min_max_scaler.pkl')\n",
    "\n",
    "# Save the Keras model first:\n",
    "pipeline.named_steps['model'].model.save(save_models_path + 'lstm_keras_model.h5')\n",
    "\n",
    "# This hack allows us to save the sklearn pipeline:\n",
    "pipeline.named_steps['model'].model = None\n",
    "\n",
    "# Finally, save the pipeline:\n",
    "joblib.dump(pipeline, save_models_path + 'lstm_pipeline.pkl')\n"
   ]
  },
  {
   "cell_type": "markdown",
   "metadata": {},
   "source": [
    "# Flask"
   ]
  },
  {
   "cell_type": "code",
   "execution_count": 12,
   "metadata": {},
   "outputs": [],
   "source": [
    "from flask import Flask, render_template, redirect, url_for, request\n",
    "from flask_sqlalchemy import SQLAlchemy\n",
    "from db_config.config import DBConfig, ModelConfig\n",
    "from pipe_config.utils import CustomNormalizer\n",
    "import keras\n",
    "import joblib\n",
    "import numpy as np\n",
    "import pandas as pd\n",
    "import matplotlib.pyplot as plt\n",
    "from matplotlib import rcParams\n",
    "from datetime import datetime\n",
    "rcParams.update({'figure.autolayout': True})"
   ]
  },
  {
   "cell_type": "code",
   "execution_count": 19,
   "metadata": {},
   "outputs": [
    {
     "name": "stderr",
     "output_type": "stream",
     "text": [
      "C:\\ProgramData\\Anaconda3\\lib\\site-packages\\flask_sqlalchemy\\__init__.py:873: FSADeprecationWarning: SQLALCHEMY_TRACK_MODIFICATIONS adds significant overhead and will be disabled by default in the future.  Set it to True or False to suppress this warning.\n",
      "  'SQLALCHEMY_TRACK_MODIFICATIONS adds significant overhead and '\n"
     ]
    },
    {
     "name": "stdout",
     "output_type": "stream",
     "text": [
      " * Serving Flask app \"__main__\" (lazy loading)\n",
      " * Environment: production\n",
      "   WARNING: This is a development server. Do not use it in a production deployment.\n",
      "   Use a production WSGI server instead.\n",
      " * Debug mode: off\n"
     ]
    },
    {
     "name": "stderr",
     "output_type": "stream",
     "text": [
      " * Running on http://127.0.0.1:5000/ (Press CTRL+C to quit)\n",
      "127.0.0.1 - - [19/May/2021 16:19:55] \"\u001b[37mGET / HTTP/1.1\u001b[0m\" 200 -\n",
      "127.0.0.1 - - [19/May/2021 16:20:06] \"\u001b[32mPOST /input_form HTTP/1.1\u001b[0m\" 302 -\n"
     ]
    },
    {
     "name": "stdout",
     "output_type": "stream",
     "text": [
      "1/1 [==============================] - 0s 2ms/step\n",
      "1/1 [==============================] - 0s 1ms/step\n",
      "1/1 [==============================] - 0s 983us/step\n",
      "1/1 [==============================] - 0s 1ms/step\n",
      "1/1 [==============================] - 0s 1ms/step\n"
     ]
    },
    {
     "name": "stderr",
     "output_type": "stream",
     "text": [
      "127.0.0.1 - - [19/May/2021 16:20:07] \"\u001b[37mGET /success/5 HTTP/1.1\u001b[0m\" 200 -\n",
      "127.0.0.1 - - [19/May/2021 16:20:07] \"\u001b[37mGET /static/btc_pred_2021-05-19-16:20.png HTTP/1.1\u001b[0m\" 200 -\n",
      "127.0.0.1 - - [19/May/2021 20:09:56] \"\u001b[37mGET / HTTP/1.1\u001b[0m\" 200 -\n",
      "127.0.0.1 - - [19/May/2021 20:10:22] \"\u001b[32mPOST /input_form HTTP/1.1\u001b[0m\" 302 -\n"
     ]
    },
    {
     "name": "stdout",
     "output_type": "stream",
     "text": [
      "1/1 [==============================] - 0s 5ms/step\n",
      "1/1 [==============================] - 0s 1ms/step\n",
      "1/1 [==============================] - 0s 2ms/step\n",
      "1/1 [==============================] - 0s 1ms/step\n",
      "1/1 [==============================] - 0s 2ms/step\n",
      "1/1 [==============================] - 0s 1ms/step\n",
      "1/1 [==============================] - 0s 2ms/step\n",
      "1/1 [==============================] - 0s 1ms/step\n",
      "1/1 [==============================] - 0s 988us/step\n",
      "1/1 [==============================] - 0s 1ms/step\n",
      "1/1 [==============================] - 0s 989us/step\n",
      "1/1 [==============================] - 0s 999us/step\n",
      "1/1 [==============================] - 0s 1ms/step\n",
      "1/1 [==============================] - 0s 996us/step\n",
      "1/1 [==============================] - 0s 2ms/step\n",
      "1/1 [==============================] - 0s 1ms/step\n",
      "1/1 [==============================] - 0s 1000us/step\n",
      "1/1 [==============================] - 0s 1ms/step\n",
      "1/1 [==============================] - 0s 1ms/step\n",
      "1/1 [==============================] - 0s 1ms/step\n",
      "1/1 [==============================] - 0s 2ms/step\n",
      "1/1 [==============================] - 0s 1ms/step\n",
      "1/1 [==============================] - 0s 999us/step\n",
      "1/1 [==============================] - 0s 1000us/step\n",
      "1/1 [==============================] - 0s 998us/step\n"
     ]
    },
    {
     "name": "stderr",
     "output_type": "stream",
     "text": [
      "127.0.0.1 - - [19/May/2021 20:10:24] \"\u001b[37mGET /success/25 HTTP/1.1\u001b[0m\" 200 -\n",
      "127.0.0.1 - - [19/May/2021 20:10:24] \"\u001b[37mGET /static/btc_pred_2021-05-19-20:10.png HTTP/1.1\u001b[0m\" 200 -\n"
     ]
    },
    {
     "data": {
      "image/png": "[encoded data removed]",
      "text/plain": [
       "<Figure size 432x288 with 1 Axes>"
      ]
     },
     "metadata": {
      "needs_background": "light"
     },
     "output_type": "display_data"
    }
   ],
   "source": [
    "db_config = DBConfig()\n",
    "model_config = ModelConfig()\n",
    "\n",
    "app = Flask(__name__)\n",
    "app.config['SEND_FILE_MAX_AGE_DEFAULT'] = 0\n",
    "app.config['SQLALCHEMY_DATABASE_URI'] = db_config.get_uri()\n",
    "db = SQLAlchemy(app)\n",
    "\n",
    "\n",
    "class CryptoInfo(db.Model):\n",
    "\n",
    "    __tablename__ = \"crypto_info\"\n",
    "\n",
    "    id = db.Column(db.Integer(), primary_key=True)\n",
    "    date = db.Column(db.DateTime())\n",
    "    close = db.Column(db.Float())\n",
    "    high = db.Column(db.Float())\n",
    "    low = db.Column(db.Float())\n",
    "    open = db.Column(db.Float())\n",
    "    volumefrom = db.Column(db.Float())\n",
    "    volumeto = db.Column(db.Float())\n",
    "    crypto = db.Column(db.String(11))\n",
    "\n",
    "\n",
    "save_models_path = \"../coursework_project_64/models/\"\n",
    "scaler = joblib.load(save_models_path + 'min_max_scaler.pkl')\n",
    "\n",
    "pipeline = joblib.load(save_models_path + 'lstm_pipeline.pkl')\n",
    "\n",
    "pipeline.named_steps['model'].model = keras.models.load_model(save_models_path + 'lstm_keras_model.h5')\n",
    "\n",
    "\n",
    "# Query data\n",
    "crypto_query_close = db.session.query(CryptoInfo.close).order_by(CryptoInfo.date.desc()).limit(model_config.window_size).all()\n",
    "crypto_query_date = db.session.query(CryptoInfo.date).order_by(CryptoInfo.date.desc()).limit(model_config.window_size).all()\n",
    "\n",
    "\n",
    "# Data to array\n",
    "crypto_close = [val for val, in crypto_query_close]\n",
    "crypto_date = [val for val, in crypto_query_date]\n",
    "crypto_close.reverse()\n",
    "crypto_date.reverse()\n",
    "\n",
    "\n",
    "# Push to the end and pop first\n",
    "def push(x, y):\n",
    "    x.pop(0)\n",
    "    x.append(y)\n",
    "    return x\n",
    "\n",
    "\n",
    "@app.route('/success/<n_days>')\n",
    "def success(n_days):\n",
    "    n_days = int(n_days)\n",
    "    \n",
    "    crypto_close_to_pred = crypto_close.copy()\n",
    "    \n",
    "    # Result close and date arrays\n",
    "    close_pred = []\n",
    "    date_pred = pd.date_range(crypto_date[-1], periods=n_days).tolist()\n",
    "    \n",
    "    for day in range(n_days):\n",
    "        input_crypto_close = np.reshape(crypto_close_to_pred, (1, model_config.window_size, 1))\n",
    "        \n",
    "        curr_close_pred = pipeline.predict(input_crypto_close)       \n",
    "        curr_close_pred_rescaled = scaler.inverse_transform(curr_close_pred.reshape(-1, 1))\n",
    "        \n",
    "        close_pred.append(curr_close_pred_rescaled.item())\n",
    "        crypto_close_to_pred = push(crypto_close_to_pred, curr_close_pred_rescaled.item())\n",
    "        \n",
    "    table_data = [[date_pred[i], close_pred[i]] for i in range(n_days)]\n",
    "    \n",
    "    plt.close()\n",
    "    \n",
    "    # Plot window and predicted values\n",
    "    plt.plot(crypto_date, crypto_close, label=\"Real\")\n",
    "    plt.plot(date_pred, close_pred, label=\"Predicted\")\n",
    "    plt.title('BTC price prediction')\n",
    "    plt.xticks(rotation=60)\n",
    "    plt.xlabel(\"Date\")\n",
    "    plt.ylabel(\"USD\")\n",
    "    plt.legend()\n",
    "    plt.tight_layout()\n",
    "    \n",
    "    img_path = 'static/'\n",
    "    img_timestamp = datetime.now().strftime(\"%Y-%m-%d-%H:%M\")\n",
    "    img_name = 'btc_pred_' + img_timestamp + '.png'\n",
    "    \n",
    "    plt.savefig(img_path + img_name)\n",
    "    \n",
    "    return render_template('table_date_predict.html', tabledata=table_data, filename=img_name)\n",
    "\n",
    "\n",
    "@app.route('/')\n",
    "def index():\n",
    "    return render_template(\"index.html\")\n",
    "\n",
    "\n",
    "@app.route('/input_form', methods=['POST', 'GET'])\n",
    "def get_n_days():\n",
    "    if request.method == 'POST':\n",
    "        n_days = request.form['n_days']\n",
    "        return redirect(url_for('success', n_days=n_days))\n",
    "    else:\n",
    "        n_days = request.args.get('n_days')\n",
    "        return redirect(url_for('success', n_days=n_days))\n",
    "\n",
    "    \n",
    "@app.after_request\n",
    "def add_header(response):\n",
    "    # response.cache_control.no_store = True\n",
    "    response.headers['Cache-Control'] = 'no-store, no-cache, must-revalidate, post-check=0, pre-check=0, max-age=0'\n",
    "    response.headers['Pragma'] = 'no-cache'\n",
    "    response.headers['Expires'] = '-1'\n",
    "    return response\n",
    "    \n",
    "    \n",
    "if __name__ == '__main__':\n",
    "    app.run()\n"
   ]
  },
  {
   "cell_type": "code",
   "execution_count": 61,
   "metadata": {},
   "outputs": [],
   "source": [
    "# save_models_path = \"../coursework_project_64/models/\"\n",
    "# scaler = joblib.load(save_models_path + 'min_max_scaler.pkl')\n",
    "\n",
    "# pipeline = joblib.load(save_models_path + 'lstm_pipeline.pkl')\n",
    "\n",
    "# pipeline.named_steps['model'].model = load_model(save_models_path + 'lstm_keras_model.h5')\n"
   ]
  }
 ],
 "metadata": {
  "colab": {
   "collapsed_sections": [],
   "name": "Cryptocurrency Price Prediction Using Deep Learning.ipynb",
   "provenance": []
  },
  "kernelspec": {
   "display_name": "Python 3",
   "language": "python",
   "name": "python3"
  },
  "language_info": {
   "codemirror_mode": {
    "name": "ipython",
    "version": 3
   },
   "file_extension": ".py",
   "mimetype": "text/x-python",
   "name": "python",
   "nbconvert_exporter": "python",
   "pygments_lexer": "ipython3",
   "version": "3.7.3"
  }
 },
 "nbformat": 4,
 "nbformat_minor": 1
}
